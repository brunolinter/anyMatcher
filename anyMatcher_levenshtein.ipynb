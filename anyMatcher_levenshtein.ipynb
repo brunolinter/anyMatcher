{
 "cells": [
  {
   "cell_type": "code",
   "execution_count": null,
   "metadata": {
    "vscode": {
     "languageId": "plaintext"
    }
   },
   "outputs": [],
   "source": [
    "# Import necessary libraries\n",
    "from flask import Flask, jsonify, request\n",
    "import pandas as pd\n",
    "import Levenshtein\n",
    "import json\n",
    "\n",
    "# Create a Flask app instance\n",
    "app = Flask(__name__)\n",
    "\n",
    "# Define the homepage route and functionality\n",
    "@app.route('/', methods=['POST'])\n",
    "def homepage():\n",
    "  # Get the JSON data from the request\n",
    "  data = request.get_json()\n",
    "  # Extract the available matchers and target from the JSON data\n",
    "  available_matchers = data['availableMatchers']\n",
    "  target = data['target'].lower()\n",
    "  # Initialize an empty list to store the results\n",
    "  result = []\n",
    "\n",
    "  # Loop through each matcher in the available matchers\n",
    "  for matcher in available_matchers:\n",
    "    # Extract the marketplace and items from the matcher\n",
    "    marketplace = matcher['marketplace']  \n",
    "    items = matcher['items']\n",
    "    # Initialize variables to track whether a match was found and what item was matched\n",
    "    matched_item = None\n",
    "    success = False\n",
    "\n",
    "    # First, try to find an exact match between the lowercase version of the item name and the target\n",
    "    for item in items:\n",
    "      if item['name'].lower() == target:\n",
    "        matched_item = item\n",
    "        success = True\n",
    "        break\n",
    "\n",
    "    # If no exact match is found, use the Levenshtein ratio calculation to find a close match\n",
    "    if not matched_item:\n",
    "      max_ratio = 0\n",
    "      for item in items:\n",
    "        ratio = Levenshtein.ratio(item['name'].lower(), target)\n",
    "        if ratio > 0.8 and ratio > max_ratio: # set a threshold of 0.8 for Levenshtein ratio\n",
    "          max_ratio = ratio\n",
    "          matched_item = item\n",
    "          success = True\n",
    "\n",
    "    # If still no match is found, split the target and the marketplace brands and suggest a brand inside \"item\" that match the first word\n",
    "    if not matched_item:\n",
    "      for item in items:\n",
    "        ratio = Levenshtein.ratio(target.split()[0], item['name'].lower())\n",
    "        if len(target.split()) > 1 and ratio > 0.8:\n",
    "          matched_item = item\n",
    "          success = True\n",
    "          break\n",
    "\n",
    "    # Append the result of this matcher to the overall results list\n",
    "    result.append({\n",
    "      'marketplace': marketplace,\n",
    "      'success': success,\n",
    "      'matchedItem': matched_item\n",
    "    })\n",
    "  \n",
    "  # Return the results as a JSON object\n",
    "  return jsonify(result)\n",
    "\n",
    "# Run the Flask app\n",
    "app.run(host='0.0.0.0')"
   ]
  }
 ],
 "metadata": {
  "kernelspec": {
   "display_name": "Python 3",
   "language": "python",
   "name": "python3"
  },
  "language_info": {
   "codemirror_mode": {
    "name": "ipython",
    "version": 3
   },
   "file_extension": ".py",
   "mimetype": "text/x-python",
   "name": "python",
   "nbconvert_exporter": "python",
   "pygments_lexer": "ipython3",
   "version": "3.11.3"
  },
  "orig_nbformat": 4
 },
 "nbformat": 4,
 "nbformat_minor": 2
}
